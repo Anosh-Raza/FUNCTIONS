{
 "cells": [
  {
   "cell_type": "markdown",
   "metadata": {},
   "source": [
    "# FUNCTION "
   ]
  },
  {
   "cell_type": "code",
   "execution_count": 1,
   "metadata": {},
   "outputs": [
    {
     "name": "stdout",
     "output_type": "stream",
     "text": [
      "apna time ayega\n"
     ]
    }
   ],
   "source": [
    "def great_user():\n",
    "    print(\"apna time ayega\")\n",
    "    \n",
    "    \n",
    "    \n",
    "great_user()"
   ]
  },
  {
   "cell_type": "code",
   "execution_count": 2,
   "metadata": {},
   "outputs": [],
   "source": [
    "def mult(a,b): #function banana call krna hota hay\n",
    "    c = a*b    #usko pass krna argument hota hay\n",
    "    print(c)"
   ]
  },
  {
   "cell_type": "code",
   "execution_count": 4,
   "metadata": {},
   "outputs": [
    {
     "name": "stdout",
     "output_type": "stream",
     "text": [
      "6\n"
     ]
    }
   ],
   "source": [
    "mult(3,2)"
   ]
  },
  {
   "cell_type": "code",
   "execution_count": 6,
   "metadata": {},
   "outputs": [
    {
     "ename": "TypeError",
     "evalue": "mult() missing 1 required positional argument: 'b'",
     "output_type": "error",
     "traceback": [
      "\u001b[1;31m---------------------------------------------------------------------------\u001b[0m",
      "\u001b[1;31mTypeError\u001b[0m                                 Traceback (most recent call last)",
      "\u001b[1;32m<ipython-input-6-3f1add7cb521>\u001b[0m in \u001b[0;36m<module>\u001b[1;34m\u001b[0m\n\u001b[1;32m----> 1\u001b[1;33m \u001b[0mmult\u001b[0m\u001b[1;33m(\u001b[0m\u001b[1;36m5\u001b[0m\u001b[1;33m)\u001b[0m\u001b[1;33m\u001b[0m\u001b[1;33m\u001b[0m\u001b[0m\n\u001b[0m",
      "\u001b[1;31mTypeError\u001b[0m: mult() missing 1 required positional argument: 'b'"
     ]
    }
   ],
   "source": [
    "mult(5)"
   ]
  },
  {
   "cell_type": "code",
   "execution_count": 9,
   "metadata": {},
   "outputs": [
    {
     "ename": "TypeError",
     "evalue": "mult() takes 2 positional arguments but 3 were given",
     "output_type": "error",
     "traceback": [
      "\u001b[1;31m---------------------------------------------------------------------------\u001b[0m",
      "\u001b[1;31mTypeError\u001b[0m                                 Traceback (most recent call last)",
      "\u001b[1;32m<ipython-input-9-a2683ef196b9>\u001b[0m in \u001b[0;36m<module>\u001b[1;34m\u001b[0m\n\u001b[1;32m----> 1\u001b[1;33m \u001b[0mmult\u001b[0m\u001b[1;33m(\u001b[0m\u001b[1;36m5\u001b[0m\u001b[1;33m,\u001b[0m\u001b[1;36m3\u001b[0m\u001b[1;33m,\u001b[0m\u001b[1;36m6\u001b[0m\u001b[1;33m)\u001b[0m\u001b[1;33m\u001b[0m\u001b[1;33m\u001b[0m\u001b[0m\n\u001b[0m",
      "\u001b[1;31mTypeError\u001b[0m: mult() takes 2 positional arguments but 3 were given"
     ]
    }
   ],
   "source": [
    "mult(5,3,6)"
   ]
  },
  {
   "cell_type": "code",
   "execution_count": 10,
   "metadata": {},
   "outputs": [
    {
     "name": "stdout",
     "output_type": "stream",
     "text": [
      "9\n"
     ]
    }
   ],
   "source": [
    "def add(a,b,c):\n",
    "    d = a + b + c\n",
    "    print(d)\n",
    "\n",
    "add(4,2,3)"
   ]
  },
  {
   "cell_type": "code",
   "execution_count": 13,
   "metadata": {},
   "outputs": [
    {
     "name": "stdout",
     "output_type": "stream",
     "text": [
      "-1\n"
     ]
    }
   ],
   "source": [
    "def sub(e,f,g):\n",
    "    d = e - f - g\n",
    "    print(d)\n",
    "\n",
    "sub(4,2,3)"
   ]
  },
  {
   "cell_type": "code",
   "execution_count": 17,
   "metadata": {},
   "outputs": [
    {
     "name": "stdout",
     "output_type": "stream",
     "text": [
      "0.4\n"
     ]
    }
   ],
   "source": [
    "def div(e,f,g):\n",
    "    d = e / f / g\n",
    "    print(d)\n",
    "\n",
    "div(e,f,g)"
   ]
  },
  {
   "cell_type": "code",
   "execution_count": 19,
   "metadata": {},
   "outputs": [
    {
     "name": "stdout",
     "output_type": "stream",
     "text": [
      "Enter number:4\n",
      "4\n"
     ]
    }
   ],
   "source": [
    "n=int(input(\"Enter number:\"))\n",
    "print(n)"
   ]
  },
  {
   "cell_type": "code",
   "execution_count": 33,
   "metadata": {},
   "outputs": [
    {
     "name": "stdout",
     "output_type": "stream",
     "text": [
      "First Name:SYED \n",
      "Middle Name:ANOSHH\n",
      "last Name:RAZA\n",
      "My name is SYED  ANOSHH RAZA\n"
     ]
    }
   ],
   "source": [
    "def full_name(f,m,l):\n",
    "    f=input(\"First Name:\")\n",
    "    m=input(\"Middle Name:\")\n",
    "    l=input(\"last Name:\")\n",
    "    a=f+' '+m+' '+l\n",
    "    print(\"My name is \" + a)\n",
    "full_name(f,m,l)"
   ]
  },
  {
   "cell_type": "code",
   "execution_count": 53,
   "metadata": {},
   "outputs": [],
   "source": [
    "def calc(f,s,o):\n",
    "    a = int(input(\"Enter First No.: \"))\n",
    "    b = int(input(\"Enter Second No.: \"))\n",
    "    c = input(\"Enter Opertor No.: \")\n",
    "    if(c == \"+\"):\n",
    "        print(a+b)\n",
    "    elif(c == \"-\"):\n",
    "        print(a-b)\n",
    "    elif(c == \"/\"):\n",
    "        print(a/b)\n",
    "    elif(c == \"*\"):\n",
    "        print(a*b)\n",
    "    else:\n",
    "        print(\"Operator not defined\")"
   ]
  },
  {
   "cell_type": "code",
   "execution_count": 58,
   "metadata": {},
   "outputs": [
    {
     "name": "stdout",
     "output_type": "stream",
     "text": [
      "Enter First No.: 3\n",
      "Enter Second No.: 6\n",
      "Enter Opertor No.: *\n",
      "18\n"
     ]
    }
   ],
   "source": [
    "calc()"
   ]
  },
  {
   "cell_type": "markdown",
   "metadata": {},
   "source": [
    "# KEYWORD ARGUMENT"
   ]
  },
  {
   "cell_type": "code",
   "execution_count": 56,
   "metadata": {},
   "outputs": [
    {
     "ename": "TypeError",
     "evalue": "calc() takes 0 positional arguments but 3 were given",
     "output_type": "error",
     "traceback": [
      "\u001b[1;31m---------------------------------------------------------------------------\u001b[0m",
      "\u001b[1;31mTypeError\u001b[0m                                 Traceback (most recent call last)",
      "\u001b[1;32m<ipython-input-56-457d3cd5c7b5>\u001b[0m in \u001b[0;36m<module>\u001b[1;34m\u001b[0m\n\u001b[1;32m----> 1\u001b[1;33m \u001b[0mcalc\u001b[0m\u001b[1;33m(\u001b[0m\u001b[1;36m2\u001b[0m\u001b[1;33m,\u001b[0m\u001b[1;34m'+'\u001b[0m\u001b[1;33m,\u001b[0m\u001b[1;36m5\u001b[0m\u001b[1;33m)\u001b[0m\u001b[1;33m\u001b[0m\u001b[1;33m\u001b[0m\u001b[0m\n\u001b[0m",
      "\u001b[1;31mTypeError\u001b[0m: calc() takes 0 positional arguments but 3 were given"
     ]
    }
   ],
   "source": [
    "calc(2,'+',5)"
   ]
  },
  {
   "cell_type": "code",
   "execution_count": 66,
   "metadata": {},
   "outputs": [
    {
     "ename": "TypeError",
     "evalue": "calc() got an unexpected keyword argument 'f'",
     "output_type": "error",
     "traceback": [
      "\u001b[1;31m---------------------------------------------------------------------------\u001b[0m",
      "\u001b[1;31mTypeError\u001b[0m                                 Traceback (most recent call last)",
      "\u001b[1;32m<ipython-input-66-9eecc8c8f44f>\u001b[0m in \u001b[0;36m<module>\u001b[1;34m\u001b[0m\n\u001b[1;32m----> 1\u001b[1;33m \u001b[0mcalc\u001b[0m\u001b[1;33m(\u001b[0m\u001b[0mf\u001b[0m\u001b[1;33m=\u001b[0m\u001b[1;36m4\u001b[0m\u001b[1;33m,\u001b[0m\u001b[0ms\u001b[0m\u001b[1;33m=\u001b[0m\u001b[1;36m5\u001b[0m\u001b[1;33m,\u001b[0m\u001b[0mo\u001b[0m\u001b[1;33m=\u001b[0m\u001b[1;34m\"+\"\u001b[0m\u001b[1;33m)\u001b[0m\u001b[1;33m\u001b[0m\u001b[1;33m\u001b[0m\u001b[0m\n\u001b[0m",
      "\u001b[1;31mTypeError\u001b[0m: calc() got an unexpected keyword argument 'f'"
     ]
    }
   ],
   "source": [
    "calc(f=4,s=5,o=\"+\")"
   ]
  },
  {
   "cell_type": "markdown",
   "metadata": {},
   "source": [
    "# DEFAULT PARAMETER"
   ]
  },
  {
   "cell_type": "code",
   "execution_count": 68,
   "metadata": {},
   "outputs": [
    {
     "name": "stdout",
     "output_type": "stream",
     "text": [
      "my name is ANOSH.\n",
      "my age is 21.\n",
      "my gender is MALE.\n"
     ]
    }
   ],
   "source": [
    "def my_info(name,age,gender):\n",
    "    print(f\"my name is {name}.\")\n",
    "    print(f\"my age is {age}.\")\n",
    "    print(f\"my gender is {gender}.\")\n",
    "\n",
    "my_info('ANOSH','21','MALE')"
   ]
  },
  {
   "cell_type": "code",
   "execution_count": 69,
   "metadata": {},
   "outputs": [
    {
     "name": "stdout",
     "output_type": "stream",
     "text": [
      "my name is ANOSH.\n",
      "my age is 20.\n",
      "my gender is MALE.\n"
     ]
    }
   ],
   "source": [
    "def my_info(name,age=20,gender='MALE'):\n",
    "    print(f\"my name is {name}.\")\n",
    "    print(f\"my age is {age}.\")\n",
    "    print(f\"my gender is {gender}.\")\n",
    "\n",
    "my_info('ANOSH')"
   ]
  },
  {
   "cell_type": "code",
   "execution_count": 73,
   "metadata": {},
   "outputs": [
    {
     "name": "stdout",
     "output_type": "stream",
     "text": [
      "ANOSH SYED RAZA\n"
     ]
    }
   ],
   "source": [
    "def my_name_is(f_name,l_name,m_name = ' '):\n",
    "    if m_name:\n",
    "        full_name= f_name+' '+ m_name+' '+l_name\n",
    "    else:\n",
    "        full_name= f_name+' '+l_name\n",
    "    return full_name\n",
    "\n",
    "a = my_name_is('ANOSH','RAZA','SYED')\n",
    "print(a)"
   ]
  },
  {
   "cell_type": "code",
   "execution_count": 74,
   "metadata": {},
   "outputs": [
    {
     "name": "stdout",
     "output_type": "stream",
     "text": [
      "ANOSH   RAZA\n"
     ]
    }
   ],
   "source": [
    "b = my_name_is('ANOSH','RAZA')\n",
    "print(b)"
   ]
  },
  {
   "cell_type": "code",
   "execution_count": 75,
   "metadata": {},
   "outputs": [
    {
     "name": "stdout",
     "output_type": "stream",
     "text": [
      "hello,ali\n",
      "hello,ahmed\n",
      "hello,shan\n",
      "hello,raza\n"
     ]
    }
   ],
   "source": [
    "def friend_list(names):\n",
    "    for name in names:\n",
    "        greet = \"hello,\"+name\n",
    "        print(greet)\n",
    "user = ['ali','ahmed','shan','raza']\n",
    "friend_list(user)"
   ]
  }
 ],
 "metadata": {
  "kernelspec": {
   "display_name": "Python 3",
   "language": "python",
   "name": "python3"
  },
  "language_info": {
   "codemirror_mode": {
    "name": "ipython",
    "version": 3
   },
   "file_extension": ".py",
   "mimetype": "text/x-python",
   "name": "python",
   "nbconvert_exporter": "python",
   "pygments_lexer": "ipython3",
   "version": "3.7.3"
  }
 },
 "nbformat": 4,
 "nbformat_minor": 2
}
